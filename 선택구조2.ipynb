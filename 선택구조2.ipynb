{
 "cells": [
  {
   "cell_type": "markdown",
   "id": "85637c3c-3b53-4ebb-81dc-56b3b6821652",
   "metadata": {
    "deletable": false,
    "editable": false
   },
   "source": [
    "### **조건문 활용 방법 2 : if-else문**"
   ]
  },
  {
   "attachments": {
    "de750662-3305-4c2e-847b-3b713f9fac56.png": {
     "image/png": "[encoded data removed]"
    }
   },
   "cell_type": "markdown",
   "id": "dd7288e4-841e-414b-894f-29045153f73d",
   "metadata": {
    "deletable": false,
    "editable": false
   },
   "source": [
    "#### **기본 구조** \n",
    "\n",
    "![조건문 그림2-2.png](attachment:de750662-3305-4c2e-847b-3b713f9fac56.png)\n"
   ]
  },
  {
   "cell_type": "markdown",
   "id": "757f2394-a4ca-48b2-8569-1ec2ded48325",
   "metadata": {
    "deletable": false,
    "editable": false
   },
   "source": [
    "**📌 작동 방식**\n",
    "\n",
    "* if 옆에 작성된 조건이 참이면 if문 내부 코드1, 2가 실행되고, 거짓이면 else문 내부 코드 3이 실행됩니다.  \n",
    "\n",
    "\n",
    "\n",
    "\n",
    "> **⚠️ 주의(WARNING):**\n",
    ">\n",
    ">* if문은 조건을 반드시 작성해야 하지만, else문은 조건을 작성하지 않습니다. \n",
    ">* else 다음에도 콜론(:)을 반드시 작성해야 합니다. "
   ]
  },
  {
   "cell_type": "markdown",
   "id": "83c51291-d7a2-432c-a931-aaccb250a05c",
   "metadata": {
    "deletable": false,
    "editable": false
   },
   "source": [
    "#### **예제 2 : if-else문을 활용하여 n이 5인지 여부에 따라 다른 코드 실행하기**"
   ]
  },
  {
   "cell_type": "code",
   "execution_count": null,
   "id": "82cc31de-7645-4836-9c26-eb669a9a331a",
   "metadata": {
    "tags": [
     "jce.problems.221.jce.problems.4단원.4단원-예제2"
    ]
   },
   "outputs": [],
   "source": [
    "# 예제_2_if_else문을_활용하여_n이_5인지_여부에_따라_다른_코드_실행하기\n",
    "\n",
    "n = int(input(\"숫자를 입력하세요\"))\n",
    "if n == 5:\n",
    "    print(\"n은 5 입니다!\")  # n이 5라는 조건이 참일 때 실행됩니다. \n",
    "else:\n",
    "    print(\"n은 5가 아닙니다!\")  # n이 5라는 조건이 거짓일 때 실행됩니다. "
   ]
  },
  {
   "cell_type": "markdown",
   "id": "e9962254-fa0a-4cb3-961e-686296d7dad8",
   "metadata": {
    "deletable": false,
    "editable": false,
    "tags": []
   },
   "source": [
    "### **💯 연습문제를 풀어봅시다**\n",
    "1. <a class=\"jcecodle-mk jcecodle-mk__problem-chip\" data-problem-id=\"2746BrA5jeE\" href='#jce-judge/open/2746BrA5jeE' target='_self'><span>정수의 참 거짓1_빈칸</span></a>\n",
    "2. <a class=\"jcecodle-mk jcecodle-mk__problem-chip\" data-problem-id=\"116\" href='#jce-judge/open/116' target='_self'><span>정수의 참 거짓1</span></a>\n",
    "\n",
    "3. <a class=\"jcecodle-mk jcecodle-mk__problem-chip\" data-problem-id=\"RLwHJkMxsMo\" href='#jce-judge/open/RLwHJkMxsMo' target='_self'><span>정수의 비교4_빈칸</span></a>\n",
    "4. <a class=\"jcecodle-mk jcecodle-mk__problem-chip\" data-problem-id=\"114\" href='#jce-judge/open/114' target='_self'><span>정수의 비교4</span></a>\n",
    "\n",
    "5. <a class=\"jcecodle-mk jcecodle-mk__problem-chip\" data-problem-id=\"zfL7X4Yb1dY\" href='#jce-judge/open/zfL7X4Yb1dY' target='_self'><span>성인여부와 성별_빈칸</span></a>\n",
    "6. <a class=\"jcecodle-mk jcecodle-mk__problem-chip\" data-problem-id=\"apet6B_EgNY\" href='#jce-judge/open/apet6B_EgNY' target='_self'><span>성인여부와 성별</span></a>\n",
    "\n",
    "7. <a class=\"jcecodle-mk jcecodle-mk__problem-chip\" data-problem-id=\"YLGpTxbUOfg\" href='#jce-judge/open/YLGpTxbUOfg' target='_self'><span>짝수 출력하기2_빈칸</span></a>\n",
    "8. <a class=\"jcecodle-mk jcecodle-mk__problem-chip\" data-problem-id=\"129\" href='#jce-judge/open/129' target='_self'><span>짝수 출력하기2</span></a>"
   ]
  }
 ],
 "metadata": {
  "kernelspec": {
   "display_name": "Python 3 (ipykernel)",
   "language": "python",
   "name": "python3"
  },
  "language_info": {
   "codemirror_mode": {
    "name": "ipython",
    "version": 3
   },
   "file_extension": ".py",
   "mimetype": "text/x-python",
   "name": "python",
   "nbconvert_exporter": "python",
   "pygments_lexer": "ipython3",
   "version": "3.10.13"
  },
  "read_only": true
 },
 "nbformat": 4,
 "nbformat_minor": 5
}
